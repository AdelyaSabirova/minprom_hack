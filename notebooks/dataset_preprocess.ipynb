{
 "cells": [
  {
   "cell_type": "code",
   "execution_count": 1,
   "metadata": {},
   "outputs": [],
   "source": [
    "import pandas as pd\n",
    "import numpy as np\n",
    "from pathlib import Path\n",
    "from collections import defaultdict\n",
    "from tqdm import tqdm\n",
    "import shutil"
   ]
  },
  {
   "cell_type": "code",
   "execution_count": 2,
   "metadata": {},
   "outputs": [],
   "source": [
    "def read_label(anno_path):\n",
    "    with open(anno_path, 'r') as f:\n",
    "        lb = [x.split() for x in f.read().strip().splitlines() if len(x)]\n",
    "        lb = np.array(lb, dtype=np.float32)\n",
    "    return lb"
   ]
  },
  {
   "cell_type": "code",
   "execution_count": 3,
   "metadata": {},
   "outputs": [
    {
     "name": "stderr",
     "output_type": "stream",
     "text": [
      "0-plane: 0it [00:00, ?it/s]"
     ]
    },
    {
     "name": "stderr",
     "output_type": "stream",
     "text": [
      "0-plane: 61612it [01:34, 648.85it/s]\n",
      "1-helicopter: 19960it [00:12, 1542.74it/s]\n"
     ]
    }
   ],
   "source": [
    "src = Path('/home/alex/nkbtech/hdd1/Datasets/train_dataset_minpromtorg_train_dataset/photo')\n",
    "\n",
    "info = defaultdict(list)\n",
    "\n",
    "for part in src.iterdir():\n",
    "    if not (part / 'labels').exists():\n",
    "        continue\n",
    "    for lb_path in tqdm((part / 'labels').iterdir(), desc=part.name):\n",
    "        lb = read_label(lb_path)\n",
    "        info['id'].append(lb_path.stem)\n",
    "        info['part'].append(part.name)\n",
    "        info['boxes'].append(lb)\n",
    "        vid_id = lb_path.stem.split('@')[0]\n",
    "        info['video_id'].append(vid_id)\n",
    "info = pd.DataFrame(info)"
   ]
  },
  {
   "cell_type": "code",
   "execution_count": 30,
   "metadata": {},
   "outputs": [
    {
     "data": {
      "text/html": [
       "<div>\n",
       "<style scoped>\n",
       "    .dataframe tbody tr th:only-of-type {\n",
       "        vertical-align: middle;\n",
       "    }\n",
       "\n",
       "    .dataframe tbody tr th {\n",
       "        vertical-align: top;\n",
       "    }\n",
       "\n",
       "    .dataframe thead th {\n",
       "        text-align: right;\n",
       "    }\n",
       "</style>\n",
       "<table border=\"1\" class=\"dataframe\">\n",
       "  <thead>\n",
       "    <tr style=\"text-align: right;\">\n",
       "      <th></th>\n",
       "      <th>id</th>\n",
       "      <th>part</th>\n",
       "      <th>boxes</th>\n",
       "      <th>video_id</th>\n",
       "      <th>fold</th>\n",
       "    </tr>\n",
       "  </thead>\n",
       "  <tbody>\n",
       "    <tr>\n",
       "      <th>0</th>\n",
       "      <td>14052021_(9)@ds-0817</td>\n",
       "      <td>0-plane</td>\n",
       "      <td>[[0.0, 0.42344, 0.656255, 0.025, 0.01563]]</td>\n",
       "      <td>14052021_(9)</td>\n",
       "      <td>train</td>\n",
       "    </tr>\n",
       "    <tr>\n",
       "      <th>1</th>\n",
       "      <td>14052021_(9)@ds-0636-aughor-inv</td>\n",
       "      <td>0-plane</td>\n",
       "      <td>[[0.0, 0.599995, 0.674805, 0.02813, 0.01367]]</td>\n",
       "      <td>14052021_(9)</td>\n",
       "      <td>train</td>\n",
       "    </tr>\n",
       "    <tr>\n",
       "      <th>2</th>\n",
       "      <td>14052021_(t19)@ds-1937-aughor</td>\n",
       "      <td>0-plane</td>\n",
       "      <td>[[0.0, 0.581245, 0.30469, 0.01563, 0.01172]]</td>\n",
       "      <td>14052021_(t19)</td>\n",
       "      <td>train</td>\n",
       "    </tr>\n",
       "    <tr>\n",
       "      <th>3</th>\n",
       "      <td>14052021_(9)@ds-1170</td>\n",
       "      <td>0-plane</td>\n",
       "      <td>[[0.0, 0.46016, 0.63184, 0.03594, 0.01758]]</td>\n",
       "      <td>14052021_(9)</td>\n",
       "      <td>train</td>\n",
       "    </tr>\n",
       "    <tr>\n",
       "      <th>4</th>\n",
       "      <td>14052021_(t18)@ds-0605-inv</td>\n",
       "      <td>0-plane</td>\n",
       "      <td>[[0.0, 0.575, 0.27832, 0.02188, 0.01758]]</td>\n",
       "      <td>14052021_(t18)</td>\n",
       "      <td>train</td>\n",
       "    </tr>\n",
       "    <tr>\n",
       "      <th>...</th>\n",
       "      <td>...</td>\n",
       "      <td>...</td>\n",
       "      <td>...</td>\n",
       "      <td>...</td>\n",
       "      <td>...</td>\n",
       "    </tr>\n",
       "    <tr>\n",
       "      <th>81567</th>\n",
       "      <td>27042021_¡¿¿» óÑαΓ«½ÑΓ@ds-0436-aughor</td>\n",
       "      <td>1-helicopter</td>\n",
       "      <td>[[1.0, 0.436715, 0.52832, 0.04219, 0.0332]]</td>\n",
       "      <td>27042021_¡¿¿» óÑαΓ«½ÑΓ</td>\n",
       "      <td>train</td>\n",
       "    </tr>\n",
       "    <tr>\n",
       "      <th>81568</th>\n",
       "      <td>27042021_óÑαΓ«½ÑΓ¡¿¿» 12_30@ds-0759-aughor-inv</td>\n",
       "      <td>1-helicopter</td>\n",
       "      <td>[[1.0, 0.429685, 0.378905, 0.03125, 0.01953]]</td>\n",
       "      <td>27042021_óÑαΓ«½ÑΓ¡¿¿» 12_30</td>\n",
       "      <td>train</td>\n",
       "    </tr>\n",
       "    <tr>\n",
       "      <th>81569</th>\n",
       "      <td>27042021_¡¿¿» óÑαΓ«½ÑΓ@ds-0058</td>\n",
       "      <td>1-helicopter</td>\n",
       "      <td>[[1.0, 0.43984, 0.51172, 0.02656, 0.02734]]</td>\n",
       "      <td>27042021_¡¿¿» óÑαΓ«½ÑΓ</td>\n",
       "      <td>train</td>\n",
       "    </tr>\n",
       "    <tr>\n",
       "      <th>81570</th>\n",
       "      <td>27042021_óÑαΓ«½ÑΓ¡¿¿» 12_30@ds-0574-inv</td>\n",
       "      <td>1-helicopter</td>\n",
       "      <td>[[1.0, 0.767185, 0.3711, 0.03125, 0.02344]]</td>\n",
       "      <td>27042021_óÑαΓ«½ÑΓ¡¿¿» 12_30</td>\n",
       "      <td>train</td>\n",
       "    </tr>\n",
       "    <tr>\n",
       "      <th>81571</th>\n",
       "      <td>27042021_¡¿¿»_óÑαΓ«½ÑΓ@ds-1152</td>\n",
       "      <td>1-helicopter</td>\n",
       "      <td>[[1.0, 0.525785, 0.744145, 0.01719, 0.01563]]</td>\n",
       "      <td>27042021_¡¿¿»_óÑαΓ«½ÑΓ</td>\n",
       "      <td>train</td>\n",
       "    </tr>\n",
       "  </tbody>\n",
       "</table>\n",
       "<p>81572 rows × 5 columns</p>\n",
       "</div>"
      ],
      "text/plain": [
       "                                                   id          part  \\\n",
       "0                                14052021_(9)@ds-0817       0-plane   \n",
       "1                     14052021_(9)@ds-0636-aughor-inv       0-plane   \n",
       "2                       14052021_(t19)@ds-1937-aughor       0-plane   \n",
       "3                                14052021_(9)@ds-1170       0-plane   \n",
       "4                          14052021_(t18)@ds-0605-inv       0-plane   \n",
       "...                                               ...           ...   \n",
       "81567           27042021_¡¿¿» óÑαΓ«½ÑΓ@ds-0436-aughor  1-helicopter   \n",
       "81568  27042021_óÑαΓ«½ÑΓ¡¿¿» 12_30@ds-0759-aughor-inv  1-helicopter   \n",
       "81569                  27042021_¡¿¿» óÑαΓ«½ÑΓ@ds-0058  1-helicopter   \n",
       "81570         27042021_óÑαΓ«½ÑΓ¡¿¿» 12_30@ds-0574-inv  1-helicopter   \n",
       "81571                  27042021_¡¿¿»_óÑαΓ«½ÑΓ@ds-1152  1-helicopter   \n",
       "\n",
       "                                               boxes  \\\n",
       "0         [[0.0, 0.42344, 0.656255, 0.025, 0.01563]]   \n",
       "1      [[0.0, 0.599995, 0.674805, 0.02813, 0.01367]]   \n",
       "2       [[0.0, 0.581245, 0.30469, 0.01563, 0.01172]]   \n",
       "3        [[0.0, 0.46016, 0.63184, 0.03594, 0.01758]]   \n",
       "4          [[0.0, 0.575, 0.27832, 0.02188, 0.01758]]   \n",
       "...                                              ...   \n",
       "81567    [[1.0, 0.436715, 0.52832, 0.04219, 0.0332]]   \n",
       "81568  [[1.0, 0.429685, 0.378905, 0.03125, 0.01953]]   \n",
       "81569    [[1.0, 0.43984, 0.51172, 0.02656, 0.02734]]   \n",
       "81570    [[1.0, 0.767185, 0.3711, 0.03125, 0.02344]]   \n",
       "81571  [[1.0, 0.525785, 0.744145, 0.01719, 0.01563]]   \n",
       "\n",
       "                          video_id   fold  \n",
       "0                     14052021_(9)  train  \n",
       "1                     14052021_(9)  train  \n",
       "2                   14052021_(t19)  train  \n",
       "3                     14052021_(9)  train  \n",
       "4                   14052021_(t18)  train  \n",
       "...                            ...    ...  \n",
       "81567       27042021_¡¿¿» óÑαΓ«½ÑΓ  train  \n",
       "81568  27042021_óÑαΓ«½ÑΓ¡¿¿» 12_30  train  \n",
       "81569       27042021_¡¿¿» óÑαΓ«½ÑΓ  train  \n",
       "81570  27042021_óÑαΓ«½ÑΓ¡¿¿» 12_30  train  \n",
       "81571       27042021_¡¿¿»_óÑαΓ«½ÑΓ  train  \n",
       "\n",
       "[81572 rows x 5 columns]"
      ]
     },
     "execution_count": 30,
     "metadata": {},
     "output_type": "execute_result"
    }
   ],
   "source": [
    "info"
   ]
  },
  {
   "cell_type": "code",
   "execution_count": 5,
   "metadata": {},
   "outputs": [
    {
     "data": {
      "text/plain": [
       "video_id\n",
       "27042021_¡¿¿» óÑαΓ«½ÑΓ                  5288\n",
       "27042021_¡¿¿»_óÑαΓ«½ÑΓ »α«ñ«½ªÑ¡¿Ñ      4868\n",
       "27042021_óÑαΓ«½ÑΓ¡¿¿» 12_30             3760\n",
       "27042021_¡¿¿»_óÑαΓ«½ÑΓ                  2852\n",
       "27042021_¡¿¿»_óÑαΓ«½ÑΓ »α«ñ«½ªÑ¡¿Ñ 2    1956\n",
       "27042021_óÑαΓ«½ÑΓ¡¿¿» 12_35             1236\n",
       "Name: count, dtype: int64"
      ]
     },
     "execution_count": 5,
     "metadata": {},
     "output_type": "execute_result"
    }
   ],
   "source": [
    "info[info['part']=='1-helicopter'].video_id.value_counts()"
   ]
  },
  {
   "cell_type": "code",
   "execution_count": 6,
   "metadata": {},
   "outputs": [
    {
     "data": {
      "text/plain": [
       "video_id\n",
       "14052021_(9)                      8348\n",
       "14052021_(t36)                    8348\n",
       "14052021_(t18)                    7180\n",
       "14052021_(t19)                    5676\n",
       "14052021_(t20)                    3956\n",
       "14052021_(t4)                     3900\n",
       "14052021_(t17)                    3896\n",
       "14052021_(t21)                    3836\n",
       "14052021_(t3)                     3476\n",
       "27042021_¡¿¿» 12_00 ßá¼«½ÑΓ âÇ    3364\n",
       "14052021_(11)                     2604\n",
       "14052021_(t14)                    1832\n",
       "14052021_(10)                     1424\n",
       "Φ¿α«¬«Ñ »«½Ñ 1 ¬¼                 1348\n",
       "14052021_(t37)                    1080\n",
       "14052021_(t16)                     812\n",
       "14052021_(t15)                     304\n",
       "æá¼«½ÑΓ êè ¬á¡á½ 1                 228\n",
       "Name: count, dtype: int64"
      ]
     },
     "execution_count": 6,
     "metadata": {},
     "output_type": "execute_result"
    }
   ],
   "source": [
    "info[info['part']=='0-plane'].video_id.value_counts()"
   ]
  },
  {
   "cell_type": "code",
   "execution_count": 29,
   "metadata": {},
   "outputs": [
    {
     "data": {
      "text/plain": [
       "<Axes: >"
      ]
     },
     "execution_count": 29,
     "metadata": {},
     "output_type": "execute_result"
    },
    {
     "data": {
      "image/png": "[encoded data removed]",
      "text/plain": [
       "<Figure size 640x480 with 1 Axes>"
      ]
     },
     "metadata": {},
     "output_type": "display_data"
    }
   ],
   "source": [
    "info.video_id.hist(xrot=90, bins=24, label=info.fold)"
   ]
  },
  {
   "cell_type": "code",
   "execution_count": 10,
   "metadata": {},
   "outputs": [],
   "source": [
    "box_len = np.array([len(i) for i in info.boxes])\n",
    "info[box_len == 2].to_csv('two_bb.csv', sep='\\t')"
   ]
  },
  {
   "cell_type": "code",
   "execution_count": 11,
   "metadata": {},
   "outputs": [
    {
     "data": {
      "text/plain": [
       "(array([1, 2]), array([81524,    48]))"
      ]
     },
     "execution_count": 11,
     "metadata": {},
     "output_type": "execute_result"
    }
   ],
   "source": [
    "np.unique(box_len, return_counts=True)"
   ]
  },
  {
   "cell_type": "code",
   "execution_count": 8,
   "metadata": {},
   "outputs": [],
   "source": [
    "test = [\n",
    "    'Φ¿α«¬«Ñ »«½Ñ 1 ¬¼',\n",
    "    '14052021_(t37)',\n",
    "    '14052021_(t16)',\n",
    "    '14052021_(t15)',\n",
    "    'æá¼«½ÑΓ êè ¬á¡á½ 1',\n",
    "    '27042021_¡¿¿»_óÑαΓ«½ÑΓ »α«ñ«½ªÑ¡¿Ñ 2',\n",
    "    '27042021_óÑαΓ«½ÑΓ¡¿¿» 12_35',\n",
    "]\n",
    "for i, row in info.iterrows():\n",
    "    info.loc[i, 'fold'] = 'test' if row['video_id'] in test else 'train'"
   ]
  },
  {
   "cell_type": "code",
   "execution_count": 9,
   "metadata": {},
   "outputs": [
    {
     "data": {
      "text/plain": [
       "fold\n",
       "train    74608\n",
       "test      6964\n",
       "Name: count, dtype: int64"
      ]
     },
     "execution_count": 9,
     "metadata": {},
     "output_type": "execute_result"
    }
   ],
   "source": [
    "info.fold.value_counts()"
   ]
  },
  {
   "cell_type": "code",
   "execution_count": 31,
   "metadata": {},
   "outputs": [
    {
     "name": "stderr",
     "output_type": "stream",
     "text": [
      "81572it [00:22, 3672.37it/s]\n"
     ]
    }
   ],
   "source": [
    "train_no_aug = []\n",
    "val_no_aug = []\n",
    "for i, row in tqdm(info.iterrows()):\n",
    "    nm = row.id\n",
    "    # if nm.endswith('-aughor') or nm.endswith('-aughor-inv') or nm.endswith('-inv'):\n",
    "    #     continue\n",
    "    if row.fold == 'train':\n",
    "        train_no_aug.append(str(src / row.part / 'images' / (row.id + '.jpg')) + '\\n')\n",
    "    else:\n",
    "        val_no_aug.append(str(src / row.part / 'images' / (row.id + '.jpg')) + '\\n')"
   ]
  },
  {
   "cell_type": "code",
   "execution_count": 32,
   "metadata": {},
   "outputs": [
    {
     "data": {
      "text/plain": [
       "(74608, 6964)"
      ]
     },
     "execution_count": 32,
     "metadata": {},
     "output_type": "execute_result"
    }
   ],
   "source": [
    "len(train_no_aug), len(val_no_aug)"
   ]
  },
  {
   "cell_type": "code",
   "execution_count": 33,
   "metadata": {},
   "outputs": [],
   "source": [
    "# with open(src / 'train.txt', 'w') as f:\n",
    "#     f.writelines(train_no_aug)\n",
    "with open(src / 'val_aug.txt', 'w') as f:\n",
    "    f.writelines(val_no_aug)"
   ]
  },
  {
   "cell_type": "code",
   "execution_count": 16,
   "metadata": {},
   "outputs": [
    {
     "name": "stderr",
     "output_type": "stream",
     "text": [
      "81572it [00:03, 20407.15it/s]\n"
     ]
    }
   ],
   "source": [
    "# Create zip\n",
    "train_no_aug_imgs = []\n",
    "val_no_aug_imgs = []\n",
    "for i, row in tqdm(info.iterrows()):\n",
    "    nm = row.id\n",
    "    if nm.endswith('-aughor') or nm.endswith('-aughor-inv') or nm.endswith('-inv'):\n",
    "        continue\n",
    "    if row.fold == 'train':\n",
    "        train_no_aug_imgs.append(src / row.part / 'images' / (row.id + '.jpg'))\n",
    "    else:\n",
    "        val_no_aug_imgs.append(src / row.part / 'images' / (row.id + '.jpg'))"
   ]
  },
  {
   "cell_type": "code",
   "execution_count": 21,
   "metadata": {},
   "outputs": [
    {
     "name": "stderr",
     "output_type": "stream",
     "text": [
      "100%|██████████| 18652/18652 [00:07<00:00, 2423.31it/s]\n",
      "100%|██████████| 1741/1741 [00:00<00:00, 2736.23it/s]\n"
     ]
    }
   ],
   "source": [
    "(src / 'clean_data' / 'train' / 'images').mkdir(exist_ok=True, parents=True)\n",
    "(src / 'clean_data' / 'train' / 'labels').mkdir(exist_ok=True, parents=True)\n",
    "(src / 'clean_data' / 'val' / 'images').mkdir(exist_ok=True, parents=True)\n",
    "(src / 'clean_data' / 'val' / 'labels').mkdir(exist_ok=True, parents=True)\n",
    "\n",
    "for img in tqdm(train_no_aug_imgs):\n",
    "    shutil.copy(img, (src / 'clean_data' / 'train' / 'images' / img.name))\n",
    "    shutil.copy(img.parent.parent/'labels'/img.with_suffix('.txt').name, (src / 'clean_data' / 'train' / 'labels' / (img.stem+'.txt')))\n",
    "for img in tqdm(val_no_aug_imgs):\n",
    "    shutil.copy(img, (src / 'clean_data' / 'val' / 'images' / img.name))\n",
    "    shutil.copy(img.parent.parent/'labels'/img.with_suffix('.txt').name, (src / 'clean_data' / 'val' / 'labels' / (img.stem+'.txt')))"
   ]
  },
  {
   "cell_type": "code",
   "execution_count": 20,
   "metadata": {},
   "outputs": [
    {
     "data": {
      "text/plain": [
       "PosixPath('/home/alex/nkbtech/hdd1/Datasets/train_dataset_minpromtorg_train_dataset/photo')"
      ]
     },
     "execution_count": 20,
     "metadata": {},
     "output_type": "execute_result"
    }
   ],
   "source": [
    "src"
   ]
  },
  {
   "cell_type": "code",
   "execution_count": 24,
   "metadata": {},
   "outputs": [],
   "source": [
    "# Generate empty labels\n",
    "\n",
    "def generate_empty_labels(p):\n",
    "    p = Path(p)\n",
    "    if not (p / 'true_labels').exists() and (p/'labels').exists():\n",
    "        shutil.move(p / 'labels', p / 'true_labels')\n",
    "    (p / 'labels').mkdir(exist_ok=True, parents=True)\n",
    "    for img in tqdm((p / 'images').iterdir()):\n",
    "        with (p / 'labels' / img.with_suffix('.txt').name).open('w') as f:\n",
    "            pass"
   ]
  },
  {
   "cell_type": "code",
   "execution_count": 12,
   "metadata": {},
   "outputs": [
    {
     "name": "stderr",
     "output_type": "stream",
     "text": [
      "3598it [00:00, 13290.47it/s]\n"
     ]
    }
   ],
   "source": [
    "generate_empty_labels('/home/alex/nkbtech/hdd1/Datasets/rgb_ir/style1')"
   ]
  },
  {
   "cell_type": "code",
   "execution_count": 19,
   "metadata": {},
   "outputs": [
    {
     "name": "stderr",
     "output_type": "stream",
     "text": [
      "130it [00:00, 11055.10it/s]\n"
     ]
    }
   ],
   "source": [
    "generate_empty_labels('/home/alex/nkbtech/hdd4/Datasets/cifrovoy_proryv/birds_ir/valid')"
   ]
  },
  {
   "cell_type": "code",
   "execution_count": 20,
   "metadata": {},
   "outputs": [
    {
     "name": "stderr",
     "output_type": "stream",
     "text": [
      "1367it [00:00, 13316.49it/s]\n"
     ]
    }
   ],
   "source": [
    "generate_empty_labels('/home/alex/nkbtech/hdd4/Datasets/cifrovoy_proryv/birds_drones_ir/train')"
   ]
  },
  {
   "cell_type": "code",
   "execution_count": 21,
   "metadata": {},
   "outputs": [
    {
     "name": "stderr",
     "output_type": "stream",
     "text": [
      "291it [00:00, 14679.69it/s]\n"
     ]
    }
   ],
   "source": [
    "generate_empty_labels('/home/alex/nkbtech/hdd4/Datasets/cifrovoy_proryv/birds_valid/valid')"
   ]
  },
  {
   "cell_type": "code",
   "execution_count": 22,
   "metadata": {},
   "outputs": [
    {
     "name": "stderr",
     "output_type": "stream",
     "text": [
      "154it [00:00, 16919.16it/s]\n"
     ]
    }
   ],
   "source": [
    "generate_empty_labels('/home/alex/nkbtech/hdd4/Datasets/cifrovoy_proryv/infr_brids/train')"
   ]
  },
  {
   "cell_type": "code",
   "execution_count": 25,
   "metadata": {},
   "outputs": [
    {
     "name": "stderr",
     "output_type": "stream",
     "text": [
      "216it [00:00, 17244.08it/s]\n"
     ]
    }
   ],
   "source": [
    "generate_empty_labels('/home/alex/nkbtech/hdd1/Datasets/train_dataset_minpromtorg_train_dataset/photo/backgrounds')"
   ]
  },
  {
   "cell_type": "code",
   "execution_count": 27,
   "metadata": {},
   "outputs": [
    {
     "name": "stderr",
     "output_type": "stream",
     "text": [
      "2488it [00:00, 9157.07it/s]\n"
     ]
    }
   ],
   "source": [
    "generate_empty_labels('/home/alex/nkbtech/hdd4/Datasets/sod4bird/cutted_images/IR/style1')"
   ]
  },
  {
   "cell_type": "code",
   "execution_count": null,
   "metadata": {},
   "outputs": [],
   "source": []
  }
 ],
 "metadata": {
  "kernelspec": {
   "display_name": "v8",
   "language": "python",
   "name": "python3"
  },
  "language_info": {
   "codemirror_mode": {
    "name": "ipython",
    "version": 3
   },
   "file_extension": ".py",
   "mimetype": "text/x-python",
   "name": "python",
   "nbconvert_exporter": "python",
   "pygments_lexer": "ipython3",
   "version": "3.11.8"
  }
 },
 "nbformat": 4,
 "nbformat_minor": 2
}
